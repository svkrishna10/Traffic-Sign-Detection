{
 "cells": [
  {
   "cell_type": "code",
   "execution_count": 47,
   "id": "08f319ce",
   "metadata": {},
   "outputs": [],
   "source": [
    "import os\n",
    "from skimage import transform\n",
    "from skimage import exposure\n",
    "import argparse\n",
    "import cv2\n",
    "import imutils\n",
    "from skimage import io\n",
    "import numpy as np\n",
    "import random\n",
    "import matplotlib.pyplot as plt\n",
    "import tensorflow.keras.models as models\n",
    "import tensorflow.keras.layers as layers"
   ]
  },
  {
   "cell_type": "code",
   "execution_count": 38,
   "id": "a58f35b0",
   "metadata": {},
   "outputs": [],
   "source": [
    "def load_split(basePath, csvPath):\n",
    "\n",
    "    data = []\n",
    "    labels = []\n",
    "    rows = open(csvPath).read().strip().split(\"\\n\")[1:]\n",
    "    random.shuffle(rows)\n",
    "    for (i, row) in enumerate(rows):\n",
    "        (label, imagePath) = row.strip().split(\",\")[-2:]\n",
    "        imagePath = os.path.sep.join([basePath, imagePath])\n",
    "        image = io.imread(imagePath)\n",
    "        image = transform.resize(image, (32, 32))\n",
    "        image = exposure.equalize_adapthist(image, clip_limit=0.1)\n",
    "           \n",
    "        data.append(image)\n",
    "        labels.append(int(label))\n",
    "\n",
    "    data = np.array(data)\n",
    "    labels = np.array(labels)\n",
    "    return (data, labels)\n"
   ]
  },
  {
   "cell_type": "code",
   "execution_count": 39,
   "id": "c4d98184",
   "metadata": {},
   "outputs": [],
   "source": [
    "Names=['Speed limit (20km/h)','Speed limit (30km/h)','Speed limit (50km/h)','Speed limit (60km/h)','Speed limit (70km/h)',\n",
    "'Speed limit (80km/h)','End of speed limit (80km/h)','Speed limit (100km/h)','Speed limit (120km/h)','No passing','No passing veh over 3.5 tons',\n",
    "'Right-of-way at intersection','Priority road','Yield','Stop','No vehicles','Veh > 3.5 tons prohibited','No entry','General caution',\n",
    "'Dangerous curve left','Dangerous curve right','Double curve','Bumpy road','Slippery road','Road narrows on the right','Road work', \n",
    "'Traffic signals','Pedestrians','Children crossing','Bicycles crossing','Beware of ice/snow','Wild animals crossing','End speed + passing limits', \n",
    "'Turn right ahead','Turn left ahead','Ahead only','Go straight or right','Go straight or left','Keep right','Keep left','Roundabout mandatory', \n",
    "'End of no passing','End no passing veh > 3.5 tons']"
   ]
  },
  {
   "cell_type": "code",
   "execution_count": 69,
   "id": "5f07381d",
   "metadata": {},
   "outputs": [],
   "source": [
    "def plot_sample(X, y, index):\n",
    "\n",
    "    plt.imshow(X[index])\n",
    "    plt.xlabel(Names[y[index]])"
   ]
  },
  {
   "cell_type": "code",
   "execution_count": 41,
   "id": "e4077349",
   "metadata": {},
   "outputs": [
    {
     "ename": "TypeError",
     "evalue": "object of type 'numpy.int32' has no len()",
     "output_type": "error",
     "traceback": [
      "\u001b[1;31m---------------------------------------------------------------------------\u001b[0m",
      "\u001b[1;31mTypeError\u001b[0m                                 Traceback (most recent call last)",
      "\u001b[1;32m<ipython-input-41-913b02355c49>\u001b[0m in \u001b[0;36m<module>\u001b[1;34m\u001b[0m\n\u001b[0;32m     21\u001b[0m \u001b[0mclassTotals\u001b[0m \u001b[1;33m=\u001b[0m \u001b[0mtrainY\u001b[0m\u001b[1;33m.\u001b[0m\u001b[0msum\u001b[0m\u001b[1;33m(\u001b[0m\u001b[0maxis\u001b[0m\u001b[1;33m=\u001b[0m\u001b[1;36m0\u001b[0m\u001b[1;33m)\u001b[0m\u001b[1;33m\u001b[0m\u001b[1;33m\u001b[0m\u001b[0m\n\u001b[0;32m     22\u001b[0m \u001b[0mclassWeight\u001b[0m \u001b[1;33m=\u001b[0m \u001b[0mdict\u001b[0m\u001b[1;33m(\u001b[0m\u001b[1;33m)\u001b[0m\u001b[1;33m\u001b[0m\u001b[1;33m\u001b[0m\u001b[0m\n\u001b[1;32m---> 23\u001b[1;33m \u001b[1;32mfor\u001b[0m \u001b[0mi\u001b[0m \u001b[1;32min\u001b[0m \u001b[0mrange\u001b[0m\u001b[1;33m(\u001b[0m\u001b[1;36m0\u001b[0m\u001b[1;33m,\u001b[0m \u001b[0mlen\u001b[0m\u001b[1;33m(\u001b[0m\u001b[0mclassTotals\u001b[0m\u001b[1;33m)\u001b[0m\u001b[1;33m)\u001b[0m\u001b[1;33m:\u001b[0m\u001b[1;33m\u001b[0m\u001b[1;33m\u001b[0m\u001b[0m\n\u001b[0m\u001b[0;32m     24\u001b[0m     \u001b[0mclassWeight\u001b[0m\u001b[1;33m[\u001b[0m\u001b[0mi\u001b[0m\u001b[1;33m]\u001b[0m \u001b[1;33m=\u001b[0m \u001b[0mclassTotals\u001b[0m\u001b[1;33m.\u001b[0m\u001b[0mmax\u001b[0m\u001b[1;33m(\u001b[0m\u001b[1;33m)\u001b[0m \u001b[1;33m/\u001b[0m \u001b[0mclassTotals\u001b[0m\u001b[1;33m[\u001b[0m\u001b[0mi\u001b[0m\u001b[1;33m]\u001b[0m\u001b[1;33m\u001b[0m\u001b[1;33m\u001b[0m\u001b[0m\n",
      "\u001b[1;31mTypeError\u001b[0m: object of type 'numpy.int32' has no len()"
     ]
    }
   ],
   "source": [
    "trainPath = os.path.sep.join([\"D:/Course/Deep Learning/archive\", \"Train.csv\"])\n",
    "testPath = os.path.sep.join([\"D:/Course/Deep Learning/archive\", \"Test.csv\"])\n",
    "(trainX, trainY) = load_split(\"D:/Course/Deep Learning/archive\", trainPath)\n",
    "(testX, testY) = load_split(\"D:/Course/Deep Learning/archive\", testPath)\n",
    "\n",
    "\n",
    "trainX = trainX.astype(\"float32\") / 255.0\n",
    "testX = testX.astype(\"float32\") / 255.0\n",
    "\n",
    "trainY=trainY.reshape(-1,)\n",
    "testY=testY.reshape(-1,)\n",
    "\n",
    "\"\"\"one-hot encode the training and testing labels\n",
    "numLabels = len(np.unique(trainY))\n",
    "trainY = to_categorical(trainY, numLabels)\n",
    "testY = to_categorical(testY, numLabels)\"\"\"\n",
    "\n",
    "\n",
    "# calculate the total number of images in each class and\n",
    "# initialize a dictionary to store the class weights\n",
    "classTotals = trainY.sum(axis=0)\n",
    "classWeight = dict()\n"
   ]
  },
  {
   "cell_type": "code",
   "execution_count": 100,
   "id": "1fb0f282",
   "metadata": {},
   "outputs": [],
   "source": [
    "cnn = models.Sequential([\n",
    "    layers.Conv2D(filters=32, kernel_size=(3, 3), activation='relu', input_shape=(32, 32, 3)),\n",
    "    layers.MaxPooling2D((2, 2)),\n",
    "    \n",
    "    layers.Conv2D(filters=64, kernel_size=(3, 3), activation='relu'),\n",
    "    layers.MaxPooling2D((2, 2)),layers.Flatten(),\n",
    "    \n",
    "    layers.Dense(64, activation='relu'),\n",
    "    layers.Dense(43, activation='softmax')\n",
    "])\n"
   ]
  },
  {
   "cell_type": "code",
   "execution_count": 101,
   "id": "e7367220",
   "metadata": {},
   "outputs": [],
   "source": [
    "cnn.compile(optimizer='adam',\n",
    "              loss='sparse_categorical_crossentropy',\n",
    "              metrics=['accuracy'])"
   ]
  },
  {
   "cell_type": "code",
   "execution_count": 102,
   "id": "268200b1",
   "metadata": {},
   "outputs": [
    {
     "name": "stdout",
     "output_type": "stream",
     "text": [
      "Epoch 1/11\n",
      "1226/1226 [==============================] - 14s 11ms/step - loss: 3.5003 - accuracy: 0.0527\n",
      "Epoch 2/11\n",
      "1226/1226 [==============================] - 14s 11ms/step - loss: 3.2414 - accuracy: 0.1316\n",
      "Epoch 3/11\n",
      "1226/1226 [==============================] - 15s 12ms/step - loss: 1.2636 - accuracy: 0.6335\n",
      "Epoch 4/11\n",
      "1226/1226 [==============================] - 16s 13ms/step - loss: 0.5787 - accuracy: 0.8284\n",
      "Epoch 5/11\n",
      "1226/1226 [==============================] - 16s 13ms/step - loss: 0.3944 - accuracy: 0.8851\n",
      "Epoch 6/11\n",
      "1226/1226 [==============================] - 16s 13ms/step - loss: 0.3016 - accuracy: 0.9127\n",
      "Epoch 7/11\n",
      "1226/1226 [==============================] - 16s 13ms/step - loss: 0.2423 - accuracy: 0.9316\n",
      "Epoch 8/11\n",
      "1226/1226 [==============================] - 17s 13ms/step - loss: 0.2037 - accuracy: 0.9421\n",
      "Epoch 9/11\n",
      "1226/1226 [==============================] - 17s 14ms/step - loss: 0.1769 - accuracy: 0.9486\n",
      "Epoch 10/11\n",
      "1226/1226 [==============================] - 17s 14ms/step - loss: 0.1535 - accuracy: 0.9561\n",
      "Epoch 11/11\n",
      "1226/1226 [==============================] - 17s 14ms/step - loss: 0.1381 - accuracy: 0.9607\n"
     ]
    },
    {
     "data": {
      "text/plain": [
       "<keras.callbacks.History at 0x2e0c7085fa0>"
      ]
     },
     "execution_count": 102,
     "metadata": {},
     "output_type": "execute_result"
    }
   ],
   "source": [
    "cnn.fit(trainX, trainY, epochs=11)\n"
   ]
  },
  {
   "cell_type": "code",
   "execution_count": 103,
   "id": "709684d2",
   "metadata": {},
   "outputs": [
    {
     "name": "stdout",
     "output_type": "stream",
     "text": [
      "395/395 [==============================] - 2s 5ms/step - loss: 0.4224 - accuracy: 0.9000\n"
     ]
    },
    {
     "data": {
      "text/plain": [
       "[0.4223977029323578, 0.8999999761581421]"
      ]
     },
     "execution_count": 103,
     "metadata": {},
     "output_type": "execute_result"
    }
   ],
   "source": [
    "cnn.evaluate(testX,testY)\n"
   ]
  },
  {
   "cell_type": "code",
   "execution_count": 62,
   "id": "957b780d",
   "metadata": {},
   "outputs": [
    {
     "data": {
      "text/plain": [
       "[3, 13, 26, 4, 8]"
      ]
     },
     "execution_count": 62,
     "metadata": {},
     "output_type": "execute_result"
    }
   ],
   "source": [
    "y_pred = cnn.predict(testX)\n",
    "y_classes = [np.argmax(element) for element in y_pred]\n",
    "y_classes[:5]"
   ]
  },
  {
   "cell_type": "code",
   "execution_count": 1,
   "id": "7f9a908c",
   "metadata": {},
   "outputs": [
    {
     "ename": "NameError",
     "evalue": "name 'plot_sample' is not defined",
     "output_type": "error",
     "traceback": [
      "\u001b[1;31m---------------------------------------------------------------------------\u001b[0m",
      "\u001b[1;31mNameError\u001b[0m                                 Traceback (most recent call last)",
      "\u001b[1;32m<ipython-input-1-087a85f1ea8b>\u001b[0m in \u001b[0;36m<module>\u001b[1;34m\u001b[0m\n\u001b[1;32m----> 1\u001b[1;33m \u001b[0mplot_sample\u001b[0m\u001b[1;33m(\u001b[0m\u001b[0mtrainX\u001b[0m\u001b[1;33m*\u001b[0m\u001b[1;36m255\u001b[0m\u001b[1;33m,\u001b[0m \u001b[0mtrainY\u001b[0m\u001b[1;33m*\u001b[0m\u001b[1;36m255\u001b[0m\u001b[1;33m,\u001b[0m \u001b[1;36m80\u001b[0m\u001b[1;33m)\u001b[0m\u001b[1;33m\u001b[0m\u001b[1;33m\u001b[0m\u001b[0m\n\u001b[0m",
      "\u001b[1;31mNameError\u001b[0m: name 'plot_sample' is not defined"
     ]
    }
   ],
   "source": [
    "plot_sample(trainX*255, trainY*255, 80)"
   ]
  },
  {
   "cell_type": "code",
   "execution_count": null,
   "id": "d789f2c5",
   "metadata": {},
   "outputs": [],
   "source": []
  }
 ],
 "metadata": {
  "kernelspec": {
   "display_name": "Python 3",
   "language": "python",
   "name": "python3"
  },
  "language_info": {
   "codemirror_mode": {
    "name": "ipython",
    "version": 3
   },
   "file_extension": ".py",
   "mimetype": "text/x-python",
   "name": "python",
   "nbconvert_exporter": "python",
   "pygments_lexer": "ipython3",
   "version": "3.8.8"
  }
 },
 "nbformat": 4,
 "nbformat_minor": 5
}
